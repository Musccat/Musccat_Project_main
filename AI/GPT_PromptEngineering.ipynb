{
  "nbformat": 4,
  "nbformat_minor": 0,
  "metadata": {
    "colab": {
      "provenance": []
    },
    "kernelspec": {
      "name": "python3",
      "display_name": "Python 3"
    },
    "language_info": {
      "name": "python"
    }
  },
  "cells": [
    {
      "cell_type": "code",
      "execution_count": null,
      "metadata": {
        "colab": {
          "base_uri": "https://localhost:8080/"
        },
        "id": "P3_u0IwFRRXZ",
        "outputId": "64716363-0af9-4c2b-c672-cb736e73a881"
      },
      "outputs": [
        {
          "output_type": "stream",
          "name": "stdout",
          "text": [
            "Collecting openai==0.28\n",
            "  Downloading openai-0.28.0-py3-none-any.whl (76 kB)\n",
            "\u001b[2K     \u001b[90m━━━━━━━━━━━━━━━━━━━━━━━━━━━━━━━━━━━━━━━━\u001b[0m \u001b[32m76.5/76.5 kB\u001b[0m \u001b[31m689.2 kB/s\u001b[0m eta \u001b[36m0:00:00\u001b[0m\n",
            "\u001b[?25hRequirement already satisfied: requests>=2.20 in /usr/local/lib/python3.10/dist-packages (from openai==0.28) (2.31.0)\n",
            "Requirement already satisfied: tqdm in /usr/local/lib/python3.10/dist-packages (from openai==0.28) (4.66.4)\n",
            "Requirement already satisfied: aiohttp in /usr/local/lib/python3.10/dist-packages (from openai==0.28) (3.9.5)\n",
            "Requirement already satisfied: charset-normalizer<4,>=2 in /usr/local/lib/python3.10/dist-packages (from requests>=2.20->openai==0.28) (3.3.2)\n",
            "Requirement already satisfied: idna<4,>=2.5 in /usr/local/lib/python3.10/dist-packages (from requests>=2.20->openai==0.28) (3.7)\n",
            "Requirement already satisfied: urllib3<3,>=1.21.1 in /usr/local/lib/python3.10/dist-packages (from requests>=2.20->openai==0.28) (2.0.7)\n",
            "Requirement already satisfied: certifi>=2017.4.17 in /usr/local/lib/python3.10/dist-packages (from requests>=2.20->openai==0.28) (2024.2.2)\n",
            "Requirement already satisfied: aiosignal>=1.1.2 in /usr/local/lib/python3.10/dist-packages (from aiohttp->openai==0.28) (1.3.1)\n",
            "Requirement already satisfied: attrs>=17.3.0 in /usr/local/lib/python3.10/dist-packages (from aiohttp->openai==0.28) (23.2.0)\n",
            "Requirement already satisfied: frozenlist>=1.1.1 in /usr/local/lib/python3.10/dist-packages (from aiohttp->openai==0.28) (1.4.1)\n",
            "Requirement already satisfied: multidict<7.0,>=4.5 in /usr/local/lib/python3.10/dist-packages (from aiohttp->openai==0.28) (6.0.5)\n",
            "Requirement already satisfied: yarl<2.0,>=1.0 in /usr/local/lib/python3.10/dist-packages (from aiohttp->openai==0.28) (1.9.4)\n",
            "Requirement already satisfied: async-timeout<5.0,>=4.0 in /usr/local/lib/python3.10/dist-packages (from aiohttp->openai==0.28) (4.0.3)\n",
            "Installing collected packages: openai\n",
            "Successfully installed openai-0.28.0\n"
          ]
        }
      ],
      "source": [
        "!pip install openai==0.28"
      ]
    },
    {
      "cell_type": "code",
      "source": [
        "import openai\n",
        "openai.api_key = \"secret key\""
      ],
      "metadata": {
        "id": "6aoU9ow-YB0m"
      },
      "execution_count": null,
      "outputs": []
    },
    {
      "cell_type": "markdown",
      "source": [
        "# **합격 포인트 추출**\n",
        "* 프롬프트 다양하게 진행 중\n",
        "* 시스템과 프롬프트 다양하게 변경 중"
      ],
      "metadata": {
        "id": "AKPLGbyBUBxr"
      }
    },
    {
      "cell_type": "code",
      "source": [
        "# system 에는 AI의 페르소나 혹은 공통된 답변 규칙등을 설정합니다.\n",
        "# user 에는 사용자의 질문이나 요청, 지시를 입력합니다.\n",
        "# assistant 에는 사용자의 입력에 따른 모델의 답변을 입력합니다.\n",
        "\n",
        "def ask_gpt(question, answer):\n",
        "    model_choice = \"gpt-3.5-turbo\"\n",
        "\n",
        "    # 중요한 포인트 추출을 위한 프롬프트 설정\n",
        "    extract_prompt = f\"질문: {question}\\n답변: {answer}\\n\\n위의 질문과 답변 사이에서 연관성을 찾아서 중요한 포인트를 추출해줘.\"\n",
        "\n",
        "    try:\n",
        "        # OpenAI API 호출\n",
        "        response = openai.ChatCompletion.create(\n",
        "            model=model_choice,\n",
        "            messages=[\n",
        "                {\"role\": \"system\", \"content\": \"당신은 합격 포인트를 잘 추출하고 질문과 답변 사이의 연관성을 잘 찾는 전문가입니다.\"},\n",
        "                {\"role\": \"user\", \"content\": extract_prompt}\n",
        "            ]\n",
        "        )\n",
        "        return response['choices'][0]['message']['content'].strip()\n",
        "    except Exception as e:\n",
        "        return f\"오류 발생: {e}\"\n",
        "\n",
        "# 예시 질문과 답변\n",
        "question = \"삼성전자를 지원한 이유와 입사 후 회사에서 이루고 싶은 꿈을 기술하십시오.\"\n",
        "answer = \"1. [개방적인 자세, 그리고 SDN 기반의 SW 구현] 대학원에서 SDN을 연구하였고 졸업 후, CISCO 골드파트너인 에스넷시스템이라는 회사에서 CISCO의 SDN 솔루션인 ACI를 구축하면서 가상화 교육을 듣게 되었고 컨테이너 기술인 Docker, Kubernetes 등 가상화 분야에 관심을 갖고 있습니다. 삼성전자는 IT 전문가로서의 성장, 성취감, 책임감을 이룰 수 있는 곳이라고 생각합니다. 또한 저는 SDN 관련 연구 및 업무 경험이 있어 본 직무에 적합한 사람이라고 생각되어 삼성전자에 지원하게 되었습니다. 제가 삼성전자에 입사하게 된다면 크게 2가지의 노력을 반드시 수행할 것입니다. 첫째, IT 신기술에 대해서 빠르게 팔로우할 것입니다. 대학원에서는 2주마다 세미나를 진행하며 이를 수행하였습니다. 이처럼 배움의 끈을 놓지 않고 항상 배움을 갈망하는 자세로 빠른 변화에 적응력을 갖춘 사원이 될 것입니다. 둘째, 삼성전자, IT 기술, 고객이라는 3가지 모두가 공동 발전할 수 있는 방향으로 이끌며 기술 발전의 순방향에서 일할 것입니다. 현재 언제 어디서나 유연한 SDN 환경은 필수적입니다. 저는 네트워크 설계 및 최적화를 위해 SDN과 Kubernetes를 통합하여 소프트웨어를 개발하고 싶습니다. 이러한 모든 과정들을 통해 키워온 저의 도전 마인드는 향후 회사의 중요한 소프트웨어개발을 하는 데 도움이 될 것이라 생각합니다.\"\n",
        "\n",
        "print(ask_gpt(question, answer))\n"
      ],
      "metadata": {
        "colab": {
          "base_uri": "https://localhost:8080/"
        },
        "id": "eyKmTsVCRZbb",
        "outputId": "41aa03ed-d559-4d86-e908-2ebad79f91cb"
      },
      "execution_count": null,
      "outputs": [
        {
          "output_type": "stream",
          "name": "stdout",
          "text": [
            "입사 지원 동기와 회사에서 이루고 싶은 꿈을 설명할 때, 삼성전자에 대한 관심과 지원 동기를 구체적으로 언급하고 있습니다. 또한 자신의 전문 분야인 SDN 기술에 대한 지식과 경험을 삼성전자에서 적용하고 싶다는 의지를 표현하고 있습니다. 주로 SDN 기술을 통한 삼성전자 입사 후의 목표와 노력을 강조하고 있으며, 지식의 쌓임과 기술 발전의 중요성을 강조하며 앞으로의 발전 가능성을 언급하고 있습니다.\n"
          ]
        }
      ]
    },
    {
      "cell_type": "code",
      "source": [
        "def ask_gpt(question, answer):\n",
        "    model_choice = \"gpt-3.5-turbo\"\n",
        "\n",
        "    # 중요한 포인트 추출을 위한 프롬프트 설정\n",
        "    extract_prompt = f\"\"\"질문: {question}\n",
        "답변: {answer}\n",
        "\n",
        "위의 질문과 답변 사이에서 연관성을 찾아서 중요한 포인트를 항목별로 추출해줘. 다음과 같은 형식으로 답변해줘:\n",
        "\n",
        "1. [포인트 1]\n",
        "2. [포인트 2]\n",
        "3. [포인트 3]\n",
        "...\n",
        "\"\"\"\n",
        "\n",
        "    try:\n",
        "        # OpenAI API 호출\n",
        "        response = openai.ChatCompletion.create(\n",
        "            model=model_choice,\n",
        "            messages=[\n",
        "                {\"role\": \"system\", \"content\": \"당신은 합격 포인트를 잘 추출하고 질문과 답변 사이의 연관성을 잘 찾는 전문가입니다.\"},\n",
        "                {\"role\": \"user\", \"content\": extract_prompt}\n",
        "            ]\n",
        "        )\n",
        "        return response['choices'][0]['message']['content'].strip()\n",
        "    except Exception as e:\n",
        "        return f\"오류 발생: {e}\"\n",
        "\n",
        "# 예시 질문과 답변\n",
        "question = \"삼성전자를 지원한 이유와 입사 후 회사에서 이루고 싶은 꿈을 기술하십시오.\"\n",
        "answer = \"\"\"1. [개방적인 자세, 그리고 SDN 기반의 SW 구현] 대학원에서 SDN을 연구하였고 졸업 후, CISCO 골드파트너인 에스넷시스템이라는 회사에서 CISCO의 SDN 솔루션인 ACI를 구축하면서 가상화 교육을 듣게 되었고 컨테이너 기술인 Docker, Kubernetes 등 가상화 분야에 관심을 갖고 있습니다. 삼성전자는 IT 전문가로서의 성장, 성취감, 책임감을 이룰 수 있는 곳이라고 생각합니다. 또한 저는 SDN 관련 연구 및 업무 경험이 있어 본 직무에 적합한 사람이라고 생각되어 삼성전자에 지원하게 되었습니다. 제가 삼성전자에 입사하게 된다면 크게 2가지의 노력을 반드시 수행할 것입니다. 첫째, IT 신기술에 대해서 빠르게 팔로우할 것입니다. 대학원에서는 2주마다 세미나를 진행하며 이를 수행하였습니다. 이처럼 배움의 끈을 놓지 않고 항상 배움을 갈망하는 자세로 빠른 변화에 적응력을 갖춘 사원이 될 것입니다. 둘째, 삼성전자, IT 기술, 고객이라는 3가지 모두가 공동 발전할 수 있는 방향으로 이끌며 기술 발전의 순방향에서 일할 것입니다. 현재 언제 어디서나 유연한 SDN 환경은 필수적입니다. 저는 네트워크 설계 및 최적화를 위해 SDN과 Kubernetes를 통합하여 소프트웨어를 개발하고 싶습니다. 이러한 모든 과정들을 통해 키워온 저의 도전 마인드는 향후 회사의 중요한 소프트웨어개발을 하는 데 도움이 될 것이라 생각합니다.\"\"\"\n",
        "\n",
        "print(ask_gpt(question, answer))\n"
      ],
      "metadata": {
        "colab": {
          "base_uri": "https://localhost:8080/"
        },
        "id": "-ZTKO2QdXZh6",
        "outputId": "a5efd073-c299-497d-adf6-d9de72a1a3f2"
      },
      "execution_count": null,
      "outputs": [
        {
          "output_type": "stream",
          "name": "stdout",
          "text": [
            "1. 지원 동기: SDN 기술에 대한 관심과 경험 (대학원에서 SDN 연구, CISCO의 ACI 구축 등)\n",
            "2. 삼성전자 지원 이유: 삼성전자에서 IT 전문가로 발전 가능성을 보고, 본인의 역량을 발휘할 수 있다고 판단\n",
            "3. 입사 후 목표: IT 신기술에 대한 끊임없는 학습과 적응력을 갖추며 발전에 기여, 고객과 기술의 공동 발전을 이루는 방향으로 일할 것을 다짐\n"
          ]
        }
      ]
    },
    {
      "cell_type": "code",
      "source": [
        "import openai\n",
        "\n",
        "def ask_gpt(question, answer, max_length=200):\n",
        "    model_choice = \"gpt-3.5-turbo\"\n",
        "\n",
        "    # 중요한 포인트 추출을 위한 프롬프트 설정\n",
        "    extract_prompt = f\"\"\"질문: {question}\n",
        "답변: {answer}\n",
        "\n",
        "위의 질문과 답변 사이에서 연관성을 찾아서 중요한 포인트를 추출해줘. 각 포인트는 최대 {max_length}자로 해줘.\"\"\"\n",
        "\n",
        "    try:\n",
        "        # OpenAI API 호출\n",
        "        response = openai.ChatCompletion.create(\n",
        "            model=model_choice,\n",
        "            messages=[\n",
        "                {\"role\": \"system\", \"content\": \"당신은 합격 포인트를 잘 추출하고 질문과 답변 사이의 연관성을 잘 찾는 전문가입니다.\"},\n",
        "                {\"role\": \"user\", \"content\": extract_prompt}\n",
        "            ]\n",
        "        )\n",
        "        return response['choices'][0]['message']['content'].strip()\n",
        "    except Exception as e:\n",
        "        return f\"오류 발생: {e}\"\n",
        "\n",
        "# 예시 질문과 답변\n",
        "question = \"삼성전자를 지원한 이유와 입사 후 회사에서 이루고 싶은 꿈을 기술하십시오.\"\n",
        "answer = \"\"\"1. [개방적인 자세, 그리고 SDN 기반의 SW 구현] 대학원에서 SDN을 연구하였고 졸업 후, CISCO 골드파트너인 에스넷시스템이라는 회사에서 CISCO의 SDN 솔루션인 ACI를 구축하면서 가상화 교육을 듣게 되었고 컨테이너 기술인 Docker, Kubernetes 등 가상화 분야에 관심을 갖고 있습니다. 삼성전자는 IT 전문가로서의 성장, 성취감, 책임감을 이룰 수 있는 곳이라고 생각합니다. 또한 저는 SDN 관련 연구 및 업무 경험이 있어 본 직무에 적합한 사람이라고 생각되어 삼성전자에 지원하게 되었습니다. 제가 삼성전자에 입사하게 된다면 크게 2가지의 노력을 반드시 수행할 것입니다. 첫째, IT 신기술에 대해서 빠르게 팔로우할 것입니다. 대학원에서는 2주마다 세미나를 진행하며 이를 수행하였습니다. 이처럼 배움의 끈을 놓지 않고 항상 배움을 갈망하는 자세로 빠른 변화에 적응력을 갖춘 사원이 될 것입니다. 둘째, 삼성전자, IT 기술, 고객이라는 3가지 모두가 공동 발전할 수 있는 방향으로 이끌며 기술 발전의 순방향에서 일할 것입니다. 현재 언제 어디서나 유연한 SDN 환경은 필수적입니다. 저는 네트워크 설계 및 최적화를 위해 SDN과 Kubernetes를 통합하여 소프트웨어를 개발하고 싶습니다. 이러한 모든 과정들을 통해 키워온 저의 도전 마인드는 향후 회사의 중요한 소프트웨어개발을 하는 데 도움이 될 것이라 생각합니다.\"\"\"\n",
        "\n",
        "print(ask_gpt(question, answer, max_length=200))\n"
      ],
      "metadata": {
        "colab": {
          "base_uri": "https://localhost:8080/"
        },
        "id": "zsnnKYq5Yfaf",
        "outputId": "7dd91df3-07e6-4b40-a17a-e2f453486706"
      },
      "execution_count": null,
      "outputs": [
        {
          "output_type": "stream",
          "name": "stdout",
          "text": [
            "1. 지원 동기: SDN 기술 관심 및 연구 경험을 통해 삼성전자의 IT 성장 기회와 책임감을 강조하며 회사에 대한 열정을 드러냄.\n",
            "2. 비전 및 목표: SDN과 Kubernetes를 통한 네트워크 소프트웨어 개발로 기술 발전과 고객 가치 창출에 기여할 의지를 표현.\n",
            "3. 학습 및 발전 의지: 지속적인 IT 신기술 학습과 빠른 변화에 대한 적응력, 공동 발전을 위한 노력을 강조하여 자기계발과 팀워크의 중요성을 강조함.\n"
          ]
        }
      ]
    },
    {
      "cell_type": "code",
      "source": [
        "import openai\n",
        "\n",
        "def ask_gpt(question, answer, max_length=200):\n",
        "    model_choice = \"gpt-4o\"\n",
        "\n",
        "    # 중요한 포인트 추출을 위한 프롬프트 설정\n",
        "    extract_prompt = f\"\"\"질문: {question}\n",
        "답변: {answer}\n",
        "\n",
        "위의 질문과 답변 사이에서 연관성을 찾아서 중요한 포인트를 추출해줘. 각 포인트는 최대 {max_length}자로 해줘.\"\"\"\n",
        "\n",
        "    try:\n",
        "        # OpenAI API 호출\n",
        "        response = openai.ChatCompletion.create(\n",
        "            model=model_choice,\n",
        "            messages=[\n",
        "                {\"role\": \"system\", \"content\": \"당신은 합격 포인트를 잘 추출하고 질문과 답변 사이의 연관성을 잘 찾는 전문가입니다.\"},\n",
        "                {\"role\": \"user\", \"content\": extract_prompt}\n",
        "            ]\n",
        "        )\n",
        "        return response['choices'][0]['message']['content'].strip()\n",
        "    except Exception as e:\n",
        "        return f\"오류 발생: {e}\"\n",
        "\n",
        "# 예시 질문과 답변\n",
        "question = \"A 멤버로 지원하신 동기를 구체적으로 적어주세요. (400자 내외).\"\n",
        "answer = \"\"\"저는 지난 학기에 기계학습 수업에서 머신러닝과 딥러닝에 대해 배웠습니다. 이 수업을 통해 이론을 배우는 동시에, 실제로 모델을 개발하고 학습시키는 과정을 경험할 수 있었습니다. 이론적인 내용을 코드로 구현하여 모델을 생성하고 데이터를 학습시키며 튜닝을 통해 성능을 향상시키는 과정에서 큰 흥미를 느꼈고, 더 많은 분야에 대해 직접 개발해보고 싶다는 생각이 들었습니다.\n",
        "A에서 진행하는 스터디를 통해 매주 논문을 읽으며 인공지능 기술들을 좀 더 자세하게 알아가 보고 싶었고, 이를 통해 새로운 기술 동향을 파악하고, 이를 실제 프로젝트에 적용하여 공모전 등에 참여하고 싶습니다. 더 나아가 제 목표는 딥러닝 엔지니어가 되는 것입니다. 이러한 목표를 달성하기 위해  A는 실무 경험을 쌓고, 함께 연구하고 배울 수 있는 좋은 기회라고 생각하여 지원하게 되었습니다.\"\"\"\n",
        "\n",
        "print(ask_gpt(question, answer, max_length=200))\n"
      ],
      "metadata": {
        "colab": {
          "base_uri": "https://localhost:8080/"
        },
        "id": "wW-GX2dVj54l",
        "outputId": "c12dd087-7931-45e4-82e1-936aad194af9"
      },
      "execution_count": null,
      "outputs": [
        {
          "output_type": "stream",
          "name": "stdout",
          "text": [
            "1. 머신러닝 및 딥러닝 경험: 기계학습 수업을 통해 이론뿐만 아니라 실제 모델을 개발하고 학습시키는 과정을 경험한 부분이 A 멤버로 지원하는 동기의 중요한 요소입니다.\n",
            "\n",
            "2. 매주 논문 읽기와 최신 기술 파악: A에서 진행하는 스터디를 통해 매주 논문을 읽으며 인공지능 기술을 심도 있게 학습하고, 새로운 기술 동향을 파악하고자 하는 열정이 드러나 있습니다.\n",
            "\n",
            "3. 프로젝트 및 공모전 참여: 학습한 내용을 바탕으로 실제 프로젝트에 적용하고 공모전에 참여하여 실전 경험을 쌓고 싶다는 목표가 A 멤버로 지원하는 동기와 연관 있습니다.\n",
            "\n",
            "4. 딥러닝 엔지니어 목표: 궁극적으로 딥러닝 엔지니어가 되고자 하는 목표를 이루기 위해 A에서 실무 경험을 쌓고 연구 및 학습할 기회로 보고 지원한 점이 중요한 포인트입니다.\n"
          ]
        }
      ]
    },
    {
      "cell_type": "markdown",
      "source": [
        "# **지원서 자동 작성**"
      ],
      "metadata": {
        "id": "moigVQqXYSWi"
      }
    },
    {
      "cell_type": "code",
      "source": [
        "def generater(question, strengths, max_length=200):\n",
        "    model_choice = \"gpt-3.5-turbo\"\n",
        "\n",
        "    # 지원서 자동 작성을 위한 프롬프트 설정\n",
        "    generate_prompt = f\"\"\"질문: {question} 강점: {strengths}\n",
        "위의 질문과 강점을 바탕으로 200자 정도의 지원서를 작성해줘.\"\"\"\n",
        "\n",
        "    try:\n",
        "        # OpenAI API 호출\n",
        "        response = openai.ChatCompletion.create(\n",
        "            model=model_choice,\n",
        "            messages=[\n",
        "                {\"role\": \"system\", \"content\": \"당신은 이 지원서에 꼭 붙어야 하는 사람이야.\"},\n",
        "                {\"role\": \"user\", \"content\": generate_prompt}\n",
        "            ]\n",
        "        )\n",
        "        return response['choices'][0]['message']['content'].strip()\n",
        "    except Exception as e:\n",
        "        return f\"오류 발생: {e}\"\n",
        "\n",
        "# 질문과 장점\n",
        "question = \"삼성전자를 지원한 이유와 입사 후 회사에서 이루고 싶은 꿈을 기술하십시오.\"\n",
        "appeal = \"대학원에서 SDN을 연구하고, SDN 솔루션 구축 경험을 통해 네트워크 설계 및 최적화 능력을 갖추었습니다.\"\n",
        "\n",
        "print(generater(question, appeal, max_length=100))\n"
      ],
      "metadata": {
        "colab": {
          "base_uri": "https://localhost:8080/"
        },
        "id": "q0HPuplDYSA1",
        "outputId": "b5e41fcb-a05c-4415-9319-b3c54cd041d3"
      },
      "execution_count": null,
      "outputs": [
        {
          "output_type": "stream",
          "name": "stdout",
          "text": [
            "삼성전자를 지원한 이유는 국내 최고의 기술력을 보유하고 있어 끊임없는 혁신과 성장을 이루고 있기 때문입니다. 대학원에서 SDN을 연구하고, SDN 솔루션 구축 경험을 통해 네트워크 설계 및 최적화 능력을 키웠습니다. 삼성전자에서는 이러한 역량을 바탕으로 더 나은 네트워크 기술 및 서비스를 개발하고, 혁신적인 솔루션을 선보이며 시장을 선도하는 것이 꿈입니다. 함께 일하면서 전 세계 사용자들에게 혁신적인 기술과 서비스를 제공하는데 도움이 되고 싶습니다.\n"
          ]
        }
      ]
    },
    {
      "cell_type": "code",
      "source": [
        "def generater(question, strengths, max_length=200):\n",
        "    model_choice = \"gpt-3.5-turbo\"\n",
        "\n",
        "    # 지원서 자동 작성을 위한 프롬프트 설정\n",
        "    generate_prompt = f\"\"\"질문: {question}\n",
        "강점: {strengths}\n",
        "\n",
        "위의 질문과 어필하는 점을 바탕으로 200자 정도의 지원서를 작성해줘.\"\"\"\n",
        "\n",
        "    try:\n",
        "        # OpenAI API 호출\n",
        "        response = openai.ChatCompletion.create(\n",
        "            model=model_choice,\n",
        "            messages=[\n",
        "                {\"role\": \"system\", \"content\": \"당신은 이 지원서에 꼭 붙어야 하는 사람이야.\"},\n",
        "                {\"role\": \"user\", \"content\": generate_prompt}\n",
        "            ]\n",
        "        )\n",
        "        return response['choices'][0]['message']['content'].strip()\n",
        "    except Exception as e:\n",
        "        return f\"오류 발생: {e}\"\n",
        "\n",
        "# 질문과 장점\n",
        "question = \"삼성전자를 지원한 이유와 입사 후 회사에서 이루고 싶은 꿈을 기술하십시오.\"\n",
        "appeal = \"대학원에서 SDN을 연구하고, SDN 솔루션 구축 경험을 통해 네트워크 설계 및 최적화 능력을 갖추었습니다.\"\n",
        "\n",
        "print(generater(question, appeal, max_length=100))\n"
      ],
      "metadata": {
        "colab": {
          "base_uri": "https://localhost:8080/"
        },
        "id": "4W_X8hzRZnvw",
        "outputId": "0644f7c6-cb5e-4f57-8ca2-463f8c51b72b"
      },
      "execution_count": null,
      "outputs": [
        {
          "output_type": "stream",
          "name": "stdout",
          "text": [
            "저는 삼성전자를 지원한 이유는 글로벌 기업으로서의 성장과 혁신적인 기술력에 매력을 느꼈기 때문입니다. 대학원에서 SDN을 연구하고 솔루션을 구축하는 경험을 통해 네트워크 설계 및 최적화 능력을 갖추었습니다. 삼성전자에서는 저의 경험과 노력을 바탕으로 네트워크 기술을 발전시키고 미래를 선도하는 기여를 하고 싶습니다. 회사에서의 꿈은 혁신적인 기술을 활용하여 네트워크 시스템을 개선하고 사회에 긍정적인 영향력을 미치는 것입니다. 함께 성장하고 발전하는 삼성전자에서 저의 역량을 발휘하고 싶습니다.\n"
          ]
        }
      ]
    },
    {
      "cell_type": "code",
      "source": [
        "import openai\n",
        "\n",
        "def generater(question, experience, qualifications, max_length=300):\n",
        "    model_choice = \"gpt-4o\"\n",
        "\n",
        "    # 지원서 자동 작성을 위한 프롬프트 설정\n",
        "    generate_prompt = f\"\"\"질문: {question}\n",
        "신청 자격: {qualifications}\n",
        "내 경험: {experience}\n",
        "\n",
        "위의 신청 자격과 내 경험을 바탕으로 질문에 대한 답을 300 글자 내의 줄글로 작성해줘. 내가 이 신청 자격에 적합함을 어필해줘.\"\"\"\n",
        "\n",
        "    try:\n",
        "        # OpenAI API 호출\n",
        "        response = openai.ChatCompletion.create(\n",
        "            model=model_choice,\n",
        "            messages=[\n",
        "                {\"role\": \"system\", \"content\": \"당신은 지원서를 자동으로 작성해주는 전문가입니다.\"},\n",
        "                {\"role\": \"user\", \"content\": generate_prompt}\n",
        "            ]\n",
        "        )\n",
        "        return response['choices'][0]['message']['content'].strip()\n",
        "    except Exception as e:\n",
        "        return f\"오류 발생: {e}\"\n",
        "\n",
        "# 예시 질문, 경험, 신청 자격\n",
        "question = \"항공우주산업의 재단 장학금을 받아야하는 이유\"\n",
        "experience = \"나는 컴퓨터공학과 전공 3학년이고 현재 AI 쪽에서 CNN 분야에서 연구를 진행하고 있어.\"\n",
        "qualifications = \"\"\"[전공기준] 사회 계열, 인문 계열, 공학 계열, 자연 계열 - 항공 우주 산업에 관심 있는 상경/사회 계열 전공자 - 고정/회전익, 위성 등 주력사업 이행을 위한 항공우주 개발 전 분야 - 미래 신사업 핵심 기술 관련 전공 분야 [이공계열 전공자로서 AI/빅데이터, 증강현실, 사이버 등 연구분야]\"\"\"\n",
        "\n",
        "print(generater(question, experience, qualifications, max_length=300))\n"
      ],
      "metadata": {
        "colab": {
          "base_uri": "https://localhost:8080/"
        },
        "id": "hOYTfbajaE3v",
        "outputId": "4dd8316e-3cf8-45fb-c17f-d619f8364c09"
      },
      "execution_count": null,
      "outputs": [
        {
          "output_type": "stream",
          "name": "stdout",
          "text": [
            "저는 컴퓨터공학과 3학년 학생으로, 인공지능(AI) 분야 중 특히 합성곱 신경망(CNN)에 대해 연구를 진행하고 있습니다. 저의 전공과 연구는 항공우주산업이 요구하는 미래 신사업 핵심 기술에 부합하며, AI와 빅데이터는 항공우주 산업에서 중요한 역할을 하고 있습니다. 예를 들어, AI 기반 이미지 인식 기술은 위성 이미지 분석 및 고정/회전익 항공기 유지보수에서 매우 유용하게 사용될 수 있습니다. 이러한 전공 및 연구 경험을 통해 항공우주산업의 혁신과 발전에 기여하고자 하는 열정으로 가득 차 있습니다. 항공우주산업 재단 장학금을 통해 보다 깊이 있는 연구와 실무 경험을 쌓아 이 분야에서 탁월한 성과를 이루고 싶습니다.\n"
          ]
        }
      ]
    },
    {
      "cell_type": "code",
      "source": [
        "import openai\n",
        "\n",
        "def generater(question, experience, qualifications, max_length=300):\n",
        "    model_choice = \"gpt-3.5-turbo\"\n",
        "\n",
        "    # 지원서 자동 작성을 위한 프롬프트 설정\n",
        "    generate_prompt = f\"\"\"질문: {question}\n",
        "신청 자격: {qualifications}\n",
        "내 경험: {experience}\n",
        "\n",
        "위의 신청 자격과 내 경험을 바탕으로 질문에 대한 답을 300 글자 내의 줄글로 작성해줘. 내가 이 신청 자격에 적합함을 어필해줘.\"\"\"\n",
        "\n",
        "    try:\n",
        "        # OpenAI API 호출\n",
        "        response = openai.ChatCompletion.create(\n",
        "            model=model_choice,\n",
        "            messages=[\n",
        "                {\"role\": \"system\", \"content\": \"당신은 지원서를 자동으로 작성해주는 전문가입니다.\"},\n",
        "                {\"role\": \"user\", \"content\": generate_prompt}\n",
        "            ]\n",
        "        )\n",
        "        return response['choices'][0]['message']['content'].strip()\n",
        "    except Exception as e:\n",
        "        return f\"오류 발생: {e}\"\n",
        "\n",
        "# 예시 질문, 경험, 신청 자격\n",
        "question = \"항공우주산업의 재단 장학금을 받아야하는 이유\"\n",
        "experience = \"나는 컴퓨터공학과 전공 3학년이고 현재 AI 쪽에서 CNN 분야에서 연구를 진행하고 있어.\"\n",
        "qualifications = \"\"\"[전공기준] 사회 계열, 인문 계열, 공학 계열, 자연 계열 - 항공 우주 산업에 관심 있는 상경/사회 계열 전공자 - 고정/회전익, 위성 등 주력사업 이행을 위한 항공우주 개발 전 분야 - 미래 신사업 핵심 기술 관련 전공 분야 [이공계열 전공자로서 AI/빅데이터, 증강현실, 사이버 등 연구분야]\"\"\"\n",
        "\n",
        "print(generater(question, experience, qualifications, max_length=300))\n"
      ],
      "metadata": {
        "colab": {
          "base_uri": "https://localhost:8080/"
        },
        "id": "yciP9gmqC0WP",
        "outputId": "67f921e9-a3e9-4005-de06-5944afcd5296"
      },
      "execution_count": null,
      "outputs": [
        {
          "output_type": "stream",
          "name": "stdout",
          "text": [
            "항공우주산업의 재단 장학금을 받아야 하는 이유는 항공우주 분야의 미래 신사업과 관련된 핵심 기술을 연구하고 발전시키기 위해 꼭 필요합니다. 나는 컴퓨터공학과 전공하여 AI 분야에서 CNN 연구를 진행하고 있어, 이를 통해 AI와 빅데이터 기술을 항공우주 분야에 적용할 수 있는 능력과 역량을 보유하고 있습니다. 미래 주력사업인 위성 등을 이행할 수 있는 기술적 역량과 항공우주 분야에 대한 관심이 있는데, 이를 통해 미래 항공우주산업의 선도적 역할을 수행할 수 있을 것입니다. 따라서, 항공우주산업의 재단 장학금을 통해 더 나은 연구와 기술 발전에 기여할 수 있는 가능성과 열정을 가지고 있어서 지원을 희망합니다.\n"
          ]
        }
      ]
    }
  ]
}